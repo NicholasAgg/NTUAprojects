{
 "cells": [
  {
   "cell_type": "code",
   "execution_count": null,
   "metadata": {},
   "outputs": [],
   "source": [
    "#1\n",
    "from random import randint\n",
    "\n",
    "Linking  = {0:\"A\",1:\"T\",2:\"C\",3:\"G\"}\n",
    "Random_Sequence = []\n",
    "\n",
    "for i in range(0,1000):\n",
    "    Random_Sequence.append(Linking[randint(0,3)])\n",
    "\n",
    "print(Random_Sequence)\n"
   ]
  },
  {
   "cell_type": "code",
   "execution_count": 71,
   "metadata": {},
   "outputs": [
    {
     "name": "stdout",
     "output_type": "stream",
     "text": [
      "This is the Frequency of A:\n",
      "231\n",
      "This is the Frequency of T:\n",
      "271\n",
      "This is the Frequency of C:\n",
      "246\n",
      "This is the Frequency of G:\n",
      "252\n"
     ]
    }
   ],
   "source": [
    "#1\n",
    "def find_total(seq):\n",
    "    A_freq = 0\n",
    "    T_freq = 0\n",
    "    C_freq = 0\n",
    "    G_freq = 0\n",
    "\n",
    "    for Base in seq:\n",
    "        if Base == \"A\":\n",
    "            A_freq += 1\n",
    "        if Base == \"T\":\n",
    "            T_freq += 1\n",
    "        if Base == \"C\":\n",
    "            C_freq += 1\n",
    "        if Base == \"G\":\n",
    "            G_freq += 1\n",
    "    return A_freq, T_freq, C_freq, G_freq\n",
    "\n",
    "print(\"This is the Frequency of A:\")\n",
    "print(find_total(Random_Sequence)[0])\n",
    "print(\"This is the Frequency of T:\")\n",
    "print(find_total(Random_Sequence)[1])\n",
    "print(\"This is the Frequency of C:\")\n",
    "print(find_total(Random_Sequence)[2])\n",
    "print(\"This is the Frequency of G:\")\n",
    "print(find_total(Random_Sequence)[3])\n"
   ]
  },
  {
   "cell_type": "code",
   "execution_count": null,
   "metadata": {},
   "outputs": [],
   "source": [
    "#2\n",
    "def find_frequency(seqs):\n",
    "    A_freq = 5*[0]\n",
    "    T_freq = 5*[0]\n",
    "    C_freq = 5*[0]\n",
    "    G_freq = 5*[0]\n",
    "    for seq in seqs:\n",
    "        for i,Base in enumerate(seq):\n",
    "            if Base == \"A\":\n",
    "                A_freq[i] += 1\n",
    "            if Base == \"T\":\n",
    "                T_freq[i] += 1\n",
    "            if Base == \"C\":\n",
    "                C_freq[i] += 1\n",
    "            if Base == \"G\":\n",
    "                G_freq[i] += 1\n",
    "    return {\"A\":A_freq, \"T\": T_freq,\"C\": C_freq, \"G\": G_freq}\n",
    "Rand_Sequences = []\n",
    "for i in range(0,5):\n",
    "    temp = []\n",
    "    for j in range(0,5):\n",
    "        temp.append(Linking[randint(0,3)])\n",
    "    Rand_Sequences.append(temp)\n",
    "\n",
    "print(\"\\t\",end=\"\")\n",
    "for i in range(0,5):\n",
    "    print(i,end=\"\\t\")\n",
    "print(\"\\n\")\n",
    "print(\"A:\",sep=\" \",end=\"\\t\")\n",
    "for freq in find_frequency(Rand_Sequences)[\"A\"]:\n",
    "    print(freq,sep=\" \",end=\"\\t\")\n",
    "print(\"\\n\")\n",
    "print(\"T:\",sep=\" \",end =\"\\t\")\n",
    "for freq in find_frequency(Rand_Sequences)[\"T\"]:\n",
    "    print(freq,sep=\" \",end=\"\\t\")\n",
    "print(\"\\n\")\n",
    "print(\"C:\",sep=\" \",end=\"\\t\")\n",
    "for freq in find_frequency(Rand_Sequences)[\"C\"]:\n",
    "    print(freq,sep=\" \",end=\"\\t\")\n",
    "print(\"\\n\")\n",
    "print(\"G:\",sep=\" \",end=\"\\t\")\n",
    "for freq in find_frequency(Rand_Sequences)[\"G\"]:\n",
    "    print(freq,sep=\" \",end=\"\\t\")\n",
    "print(\"\\n\")\n",
    "\n",
    "\n"
   ]
  },
  {
   "cell_type": "code",
   "execution_count": null,
   "metadata": {},
   "outputs": [],
   "source": [
    "#3\n",
    "def find_consensus_string(seq):\n",
    "    freqs = find_frequency(seq)\n",
    "    most_frequent = \"\"\n",
    "    for i in range(len(freqs[\"A\"])):\n",
    "        temp = {\"A\":freqs[\"A\"][i],\"T\":freqs[\"T\"][i],\"C\":freqs[\"C\"][i],\"G\":freqs[\"G\"][i]}\n",
    "        occurences = 0\n",
    "        for key,value in temp.items():\n",
    "            if value == max(temp.values()):\n",
    "                occurences += 1\n",
    "        if(occurences > 1):\n",
    "            most_frequent += \"-\"\n",
    "        else:\n",
    "            most_frequent += max(temp, key=temp.get)\n",
    "    return most_frequent\n",
    "\n",
    "\n",
    "print (\"This is the consensus string:\")\n",
    "print (find_consensus_string(Rand_Sequences))"
   ]
  },
  {
   "cell_type": "code",
   "execution_count": null,
   "metadata": {},
   "outputs": [],
   "source": [
    "Two_Rand_Sequences = []\n",
    "for i in range(0,2):\n",
    "    temp = []\n",
    "    for j in range(0,10):\n",
    "        temp.append(Linking[randint(0,3)]).\n",
    "    Two_Rand_Sequences.append(temp)\n",
    "\n"
   ]
  }
 ],
 "metadata": {
  "interpreter": {
   "hash": "43f221103f953d3e0d93840edd77be981e5a5e0e42edc048e3de5278c46a3390"
  },
  "kernelspec": {
   "display_name": "Python 3.10.2 64-bit",
   "language": "python",
   "name": "python3"
  },
  "language_info": {
   "codemirror_mode": {
    "name": "ipython",
    "version": 3
   },
   "file_extension": ".py",
   "mimetype": "text/x-python",
   "name": "python",
   "nbconvert_exporter": "python",
   "pygments_lexer": "ipython3",
   "version": "3.10.2"
  },
  "orig_nbformat": 4
 },
 "nbformat": 4,
 "nbformat_minor": 2
}
