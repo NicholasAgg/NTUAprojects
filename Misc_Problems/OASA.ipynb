{
 "cells": [
  {
   "cell_type": "code",
   "execution_count": 1,
   "metadata": {},
   "outputs": [
    {
     "name": "stdout",
     "output_type": "stream",
     "text": [
      "Requirement already satisfied: fbchat in c:\\users\\nicho\\appdata\\local\\programs\\python\\python310\\lib\\site-packages (1.9.7)\n",
      "Requirement already satisfied: beautifulsoup4~=4.0 in c:\\users\\nicho\\appdata\\local\\programs\\python\\python310\\lib\\site-packages (from fbchat) (4.10.0)\n",
      "Requirement already satisfied: aenum~=2.0 in c:\\users\\nicho\\appdata\\local\\programs\\python\\python310\\lib\\site-packages (from fbchat) (2.2.6)\n",
      "Requirement already satisfied: requests~=2.19 in c:\\tools\\manim\\lib\\site-packages (from fbchat) (2.27.1)\n",
      "Requirement already satisfied: paho-mqtt~=1.5 in c:\\users\\nicho\\appdata\\local\\programs\\python\\python310\\lib\\site-packages (from fbchat) (1.6.1)\n",
      "Requirement already satisfied: attrs>=18.2 in c:\\users\\nicho\\appdata\\local\\programs\\python\\python310\\lib\\site-packages (from fbchat) (21.4.0)\n",
      "Requirement already satisfied: soupsieve>1.2 in c:\\users\\nicho\\appdata\\local\\programs\\python\\python310\\lib\\site-packages (from beautifulsoup4~=4.0->fbchat) (2.3.1)\n",
      "Requirement already satisfied: certifi>=2017.4.17 in c:\\tools\\manim\\lib\\site-packages (from requests~=2.19->fbchat) (2021.10.8)\n",
      "Requirement already satisfied: idna<4,>=2.5 in c:\\tools\\manim\\lib\\site-packages (from requests~=2.19->fbchat) (3.3)\n",
      "Requirement already satisfied: charset-normalizer~=2.0.0 in c:\\tools\\manim\\lib\\site-packages (from requests~=2.19->fbchat) (2.0.12)\n",
      "Requirement already satisfied: urllib3<1.27,>=1.21.1 in c:\\tools\\manim\\lib\\site-packages (from requests~=2.19->fbchat) (1.26.8)\n",
      "Note: you may need to restart the kernel to use updated packages.\n"
     ]
    },
    {
     "name": "stderr",
     "output_type": "stream",
     "text": [
      "WARNING: You are using pip version 22.0.4; however, version 22.1.2 is available.\n",
      "You should consider upgrading via the 'c:\\Users\\nicho\\AppData\\Local\\Programs\\Python\\Python310\\python.exe -m pip install --upgrade pip' command.\n"
     ]
    }
   ],
   "source": [
    "%pip install fbchat"
   ]
  },
  {
   "cell_type": "code",
   "execution_count": 2,
   "metadata": {},
   "outputs": [],
   "source": [
    "from fbchat import Client\n",
    "from fbchat.models import Message"
   ]
  },
  {
   "cell_type": "code",
   "execution_count": 23,
   "metadata": {},
   "outputs": [
    {
     "name": "stdout",
     "output_type": "stream",
     "text": [
      "['021', '021', '021', '022', '022', '022', '024', '025', '026', '027', '032', '035', '036', '036', '036', '040', '046', '049', '051', '051', '052', '054', '057', '060', '1', '10', '101', '106', '106', '109', '109', '109', '11', '112', '112', '115', '115', '116', '117', '12', '120', '122', '123', '123', '124', '126', '128', '128', '128', '130', '131', '131', '136', '137', '14 ', '140', '141', '142', '15', '15', '15', '154', '16', '162', '164', '164', '164', '164', '17', '171', '171', '171', '18', '19', '19Β', '2', '20', '201', '201', '201', '203', '204', '204', '204Β', '204Β', '205', '206', '206', '209', '21', '211', '212', '214', '217', '218', '219', '220', '221', '221', '224', '227', '229', '230', '235', '237', '237', '24', '242', '25', '25', '250', '250', '250', '3', '300', '300', '301', '301', '301Β', '302', '302', '304', '305', '306', '306', '306', '307', '308', '308', '309', '309', '309', '310', '310', '310', '314', '314', '314', '314', '316', '319', '319', '319', '323', '324', '326', '330', '330', '4', '402', '405', '405', '405', '406', '407', '409', '410', '410', '410', '410', '410', '411', '411', '411', '416', '418', '420', '421', '444', '444', '446', '447', '450', '451', '451', '451', '460', '461', '461', '461', '5', '500', '501', '503', '504', '507', '509', '509', '509', '522', '523', '524', '526', '527', '530', '535', '535Α', '536', '537', '537', '541', '543', '543Α', '550', '560', '6', '602', '602', '602', '604', '605', '608', '608', '608', '608', '608', '610', '610', '610', '619', '622', '640', '642', '642', '651', '651', '653', '653', '700', '701', '702', '703', '704', '705', '706', '706', '706', '709', '711', '712', '719', '720', '721', '723', '724', '725', '725', '726', '727', '727', '727', '728', '728', '728', '728', '728', '730', '730', '731', '732', '733', '734', '735', '740', '740', '740', '747', '747', '748', '749', '750', '750', '752', '752', '755', '755Β', '790', '800', '801', '803', '805', '805', '806', '806', '807', '809', '809', '810', '810', '811', '811', '811', '813', '814', '815', '816', '817', '818', '818', '819', '820', '821', '822', '822', '822', '822', '823', '823', '823', '824', '824', '825', '826', '826', '826', '827', '828', '829', '829', '829', '830', '830', '830', '831', '831', '832', '833', '836', '837', '837', '838', '841', '841', '841', '842', '842', '843', '845', '846', '848', '852', '855', '855', '856', '859', '860', '861', '861Β', '862', '863', '864', '865', '866', '866', '866', '866', '866', '868', '871', '871Τ', '871Τ', '876', '876', '876', '876', '876', '878', '878', '879', '881', '881', '890', '891', '892', '900', '904', '906', '909', '909', '909', '910', '910', '910', '911', '911Α', '914', '914', '915', '915', 'Α1', 'Α1', 'Α10', 'Α10', 'Α10', 'Α11', 'Α13', 'Α15', 'Α2', 'Α2', 'Α2', 'Α3', 'Α5', 'Α7', 'Α8', 'Α8', 'Β1', 'Β10', 'Β11', 'Β12', 'Β12', 'Β15', 'Β2', 'Β2', 'Β2', 'Β5', 'Β9', 'Γ12', 'Ε14', 'Ε90', 'Χ14', 'Χ80', 'Χ93', 'Χ95', 'Χ96', 'Χ96', 'Χ97', 'Χ97', 'Χ97', 'Χ97']\n"
     ]
    }
   ],
   "source": [
    "import requests\n",
    "import json\n",
    "response = requests.post(\"http://telematics.oasa.gr/api/?act=webGetLinesWithMLInfo\")\n",
    "Line_info = response.json()\n",
    "#Format of data is ml_code,sdc_code,line_code,line_id,line_descr,line_descr_eng,mld_master\n",
    "Code_To_Line = {line[\"line_code\"] : line[\"line_id\"] for line in Line_info}\n",
    "Route_Desc = {line[\"line_code\"] : line[\"line_descr\"] for line in Line_info}\n",
    "Line_To_Code = {line[\"line_id\"] : [] for line in Line_info}\n",
    "#Format of data is ml_code,sdc_code,line_code,line_id,line_descr,line_descr_eng,mld_master\n",
    "lines = []\n",
    "for line in Line_info:\n",
    "    lines.append(line[\"line_id\"])\n",
    "print(lines)\n",
    "desired_line = input(\"Enter line: \")\n"
   ]
  },
  {
   "cell_type": "code",
   "execution_count": 24,
   "metadata": {},
   "outputs": [
    {
     "name": "stdout",
     "output_type": "stream",
     "text": [
      "['962', '1566']\n",
      "0: Α1 ΠΕΙΡΑΙΑΣ - ΒΟΥΛΑ\n",
      "1: Α1 ΠΕΙΡΑΙΑΣ - ΒΟΥΛΑ (ΑΠΟ ΕΚΚΛΗΣΙΑ ΒΑΡΗΣ ΕΩΣ ΠΕΙΡΑΙΑ)\n"
     ]
    }
   ],
   "source": [
    "for line in Line_info:\n",
    "    Line_To_Code[line[\"line_id\"]].append(line[\"line_code\"])\n",
    "for count,code in enumerate(Line_To_Code[desired_line], 0):\n",
    "    print(str(count)+ \": \" + Code_To_Line[code] + \" \" + Route_Desc[code])\n"
   ]
  },
  {
   "cell_type": "code",
   "execution_count": 38,
   "metadata": {},
   "outputs": [
    {
     "ename": "ValueError",
     "evalue": "invalid literal for int() with base 10: 'Α1'",
     "output_type": "error",
     "traceback": [
      "\u001b[1;31m---------------------------------------------------------------------------\u001b[0m",
      "\u001b[1;31mValueError\u001b[0m                                Traceback (most recent call last)",
      "\u001b[1;32mc:\\Users\\nicho\\Documents\\Coding\\OASA.ipynb Cell 5\u001b[0m in \u001b[0;36m<cell line: 1>\u001b[1;34m()\u001b[0m\n\u001b[1;32m----> <a href='vscode-notebook-cell:/c%3A/Users/nicho/Documents/Coding/OASA.ipynb#W5sZmlsZQ%3D%3D?line=0'>1</a>\u001b[0m response2 \u001b[39m=\u001b[39m requests\u001b[39m.\u001b[39mpost(\u001b[39m\"\u001b[39m\u001b[39mhttp://telematics.oasa.gr/api/?act=webGetRoutes&p1=\u001b[39m\u001b[39m\"\u001b[39m \u001b[39m+\u001b[39m Line_To_Code[desired_line][\u001b[39mint\u001b[39;49m(desired_line)])\n\u001b[0;32m      <a href='vscode-notebook-cell:/c%3A/Users/nicho/Documents/Coding/OASA.ipynb#W5sZmlsZQ%3D%3D?line=1'>2</a>\u001b[0m Route_info \u001b[39m=\u001b[39m response2\u001b[39m.\u001b[39mjson()\n\u001b[0;32m      <a href='vscode-notebook-cell:/c%3A/Users/nicho/Documents/Coding/OASA.ipynb#W5sZmlsZQ%3D%3D?line=2'>3</a>\u001b[0m Route_Codes \u001b[39m=\u001b[39m [route_info[\u001b[39m\"\u001b[39m\u001b[39mRouteCode\u001b[39m\u001b[39m\"\u001b[39m] \u001b[39mfor\u001b[39;00m route_info \u001b[39min\u001b[39;00m Route_info]    \n",
      "\u001b[1;31mValueError\u001b[0m: invalid literal for int() with base 10: 'Α1'"
     ]
    }
   ],
   "source": [
    "response2 = requests.post(\"http://telematics.oasa.gr/api/?act=webGetRoutes&p1=\" + Line_To_Code[desired_line][int(desired_route)])\n",
    "Route_info = response2.json()\n",
    "Route_Codes = [route_info[\"RouteCode\"] for route_info in Route_info]    \n",
    "#print (Route_info)\n",
    "Code_To_Route = {route[\"RouteCode\"] : route[\"RouteDescr\"] for route in Route_info}\n",
    "for count,code in enumerate(Route_Codes, 0):\n",
    "    print(str(count)+ \": \" + Code_To_Route[code])\n"
   ]
  },
  {
   "cell_type": "code",
   "execution_count": 39,
   "metadata": {},
   "outputs": [],
   "source": [
    "desired_route = input(\"Enter the route number: \")"
   ]
  },
  {
   "cell_type": "code",
   "execution_count": 40,
   "metadata": {},
   "outputs": [
    {
     "name": "stdout",
     "output_type": "stream",
     "text": [
      "1 : ΠΕΙΡΑΙΑΣ\n",
      "2 : ΚΛΕΙΣΟΒΗΣ\n",
      "3 : ΣΚΑΛΑΚΙΑ\n",
      "4 : ΓΟΥΒΑ\n",
      "5 : ΣΧΟΛΕΙΑ\n",
      "6 : ΒΡΥΩΝΗ\n",
      "7 : ΦΙΛΕΛΛΗΝΩΝ\n",
      "8 : ΣΚΟΥΖΕ\n",
      "9 : ΤΕΡΨΙΘΕΑ\n",
      "10 : ΠΛ. ΚΟΡΑΗ\n",
      "11 : ΔΗΜΟΤΙΚΟ ΘΕΑΤΡΟ\n",
      "12 : ΚΟΥΝΤΟΥΡΙΩΤΟΥ\n",
      "13 : ΒΕΝΙΖΕΛΟΥ\n",
      "14 : ΕΥΑΓΓΕΛΙΣΤΡΙΑ\n",
      "15 : ΤΖΑΒΕΛΛΑ\n",
      "16 : 17η ΣΤΑΣΗ\n",
      "17 : ΗΣΑΠ Ν. ΦΑΛΗΡΟΥ\n",
      "18 : ΑΚΤΑΙΟΝ\n",
      "19 : ΓΥΜΝΑΣΙΟ\n",
      "20 : ΜΑΡΚΟΜΙΧΕΛΑΚΕΙΟ\n",
      "21 : ΤΖΙΤΖΙΦΙΕΣ\n",
      "22 : ΑΓ. ΣΚΕΠΗ\n",
      "23 : ΦΟΡΟΣ\n",
      "24 : ΟΥΛΕΝ\n",
      "25 : ΤΡΟΚΑΝΤΕΡΟ\n",
      "26 : ΦΛΟΙΣΒΟΣ\n",
      "27 : ΠΑΛΜΥΡΑ\n",
      "28 : ΜΠΑΤΗΣ\n",
      "29 : ΕΔΕΜ\n",
      "30 : 1η ΚΑΛΑΜΑΚΙΟΥ\n",
      "31 : 2η ΚΑΛΑΜΑΚΙΟΥ\n",
      "32 : 3η ΚΑΛΑΜΑΚΙΟΥ\n",
      "33 : 4η ΚΑΛΑΜΑΚΙΟΥ\n",
      "34 : 5η ΚΑΛΑΜΑΚΙΟΥ\n",
      "35 : ΑΛΙΜΟΥ\n",
      "36 : 1η ΑΓ. ΚΟΣΜΑ\n",
      "37 : 2η ΑΓ. ΚΟΣΜΑΣ\n",
      "38 : 1η ΕΛΛΗΝΙΚΟΥ\n",
      "39 : 2η ΕΛΛΗΝΙΚΟΥ\n",
      "40 : 4η ΕΛΛΗΝΙΚΟΥ\n",
      "41 : ΚΟΛΛΕΓΙΟ\n",
      "42 : ΔΙΚΗΓΟΡΙΚΑ\n",
      "43 : 2η ΓΛΥΦΑΔΑΣ\n",
      "44 : 3η ΓΛΥΦΑΔΑΣ\n",
      "45 : 5η ΓΛΥΦΑΔΑΣ\n",
      "46 : ΠΛ.ΓΛΥΦΑΔΑΣ\n",
      "47 : ΑΝΤΩΝΟΠΟΥΛΟΥ\n",
      "48 : ΑΣΤΕΡΙΑ\n",
      "49 : ΠΙΚΠΑ\n",
      "50 : Α ΠΛΑΖ ΒΟΥΛΑΣ\n",
      "51 : ΝΟΣΟΚΟΜΕΙΟ\n",
      "52 : ΒΕΝΙΖΕΛΟΥ\n",
      "53 : ΓΑΛΗΝΟΥ\n",
      "54 : ΣΩΚΡΑΤΟΥΣ\n",
      "55 : ΞΕΝΟΦΩΝΤΟΣ\n",
      "56 : ΑΦΡΟΔΙΤΗΣ\n",
      "57 : ΠΑΛ. ΤΕΡΜΑ\n",
      "58 : ΝΗΡΕΩΣ\n",
      "59 : ΓΑΛΗΝΗ\n",
      "60 : ΤΕΡΜΑ - ΑΠΟΒΙΒΑΣΗ\n",
      "61 : ΒΟΥΛΑ\n"
     ]
    }
   ],
   "source": [
    "response3 = requests.post(\"http://telematics.oasa.gr/api/?act=webGetStops&p1=\" + Route_Codes[int(desired_route)])\n",
    "Stop_info = response3.json()\n",
    "StopCode = [stop[\"StopCode\"] for stop in Stop_info]\n",
    "#example of data {'StopCode': '10340', 'StopID': '000134', 'StopDescr': 'ΓΑΛΑΤΣΙ', 'StopDescrEng': 'GALATSI', 'StopStreet': None, 'StopStreetEng': None, 'StopHeading': '214', 'StopLat': '38.0265555', 'StopLng': '23.7614695', 'RouteStopOrder': '1', 'StopType': '0', 'StopAmea': '0'}\n",
    "for count,stop in enumerate(Stop_info,1):\n",
    "    print( str(count) + \" : \" + stop[\"StopDescr\"])"
   ]
  },
  {
   "cell_type": "code",
   "execution_count": 28,
   "metadata": {},
   "outputs": [],
   "source": [
    "desired_stop = input(\"Enter the stop code: \")\n",
    "response4 = requests.post(\"http://telematics.oasa.gr/api/?act=getStopArrivals&p1=\" + StopCode[int(desired_stop)-1])\n",
    "Arrival_info = response4.json()\n",
    "times_to_arrival = []\n",
    "for times in Arrival_info:\n",
    "    times_to_arrival.append(times[\"btime2\"])"
   ]
  },
  {
   "cell_type": "code",
   "execution_count": 22,
   "metadata": {},
   "outputs": [
    {
     "name": "stdout",
     "output_type": "stream",
     "text": [
      "1 minutes for 608 to arrive at ΟΙΚΟΝΟΜΙΚΟ ΠΑΝΕΠΙΣΤΗΜΙΟ\n",
      "1 minutes for 608 to arrive at ΟΙΚΟΝΟΜΙΚΟ ΠΑΝΕΠΙΣΤΗΜΙΟ\n",
      "9 minutes for 608 to arrive at ΟΙΚΟΝΟΜΙΚΟ ΠΑΝΕΠΙΣΤΗΜΙΟ\n",
      "15 minutes for 608 to arrive at ΟΙΚΟΝΟΜΙΚΟ ΠΑΝΕΠΙΣΤΗΜΙΟ\n",
      "22 minutes for 608 to arrive at ΟΙΚΟΝΟΜΙΚΟ ΠΑΝΕΠΙΣΤΗΜΙΟ\n",
      "23 minutes for 608 to arrive at ΟΙΚΟΝΟΜΙΚΟ ΠΑΝΕΠΙΣΤΗΜΙΟ\n",
      "24 minutes for 608 to arrive at ΟΙΚΟΝΟΜΙΚΟ ΠΑΝΕΠΙΣΤΗΜΙΟ\n",
      "25 minutes for 608 to arrive at ΟΙΚΟΝΟΜΙΚΟ ΠΑΝΕΠΙΣΤΗΜΙΟ\n",
      "27 minutes for 608 to arrive at ΟΙΚΟΝΟΜΙΚΟ ΠΑΝΕΠΙΣΤΗΜΙΟ\n",
      "27 minutes for 608 to arrive at ΟΙΚΟΝΟΜΙΚΟ ΠΑΝΕΠΙΣΤΗΜΙΟ\n",
      "33 minutes for 608 to arrive at ΟΙΚΟΝΟΜΙΚΟ ΠΑΝΕΠΙΣΤΗΜΙΟ\n",
      "36 minutes for 608 to arrive at ΟΙΚΟΝΟΜΙΚΟ ΠΑΝΕΠΙΣΤΗΜΙΟ\n",
      "40 minutes for 608 to arrive at ΟΙΚΟΝΟΜΙΚΟ ΠΑΝΕΠΙΣΤΗΜΙΟ\n"
     ]
    }
   ],
   "source": [
    "for time in times_to_arrival:\n",
    "    print(time + \" minutes for \" + desired_line + \" to arrive at \" + Stop_info[int(desired_stop)-1][\"StopDescr\"])"
   ]
  },
  {
   "cell_type": "code",
   "execution_count": null,
   "metadata": {},
   "outputs": [],
   "source": []
  }
 ],
 "metadata": {
  "kernelspec": {
   "display_name": "Python 3.10.2 64-bit",
   "language": "python",
   "name": "python3"
  },
  "language_info": {
   "codemirror_mode": {
    "name": "ipython",
    "version": 3
   },
   "file_extension": ".py",
   "mimetype": "text/x-python",
   "name": "python",
   "nbconvert_exporter": "python",
   "pygments_lexer": "ipython3",
   "version": "3.10.2"
  },
  "orig_nbformat": 4,
  "vscode": {
   "interpreter": {
    "hash": "43f221103f953d3e0d93840edd77be981e5a5e0e42edc048e3de5278c46a3390"
   }
  }
 },
 "nbformat": 4,
 "nbformat_minor": 2
}
